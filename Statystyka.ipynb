{
 "cells": [
  {
   "cell_type": "code",
   "execution_count": 1,
   "id": "5e72dcb3",
   "metadata": {},
   "outputs": [
    {
     "name": "stdout",
     "output_type": "stream",
     "text": [
      "📊 Statystyki dla 100 obserwacji:\n",
      "count    100.000000\n",
      "mean       3.070238\n",
      "std        0.944859\n",
      "min        0.992549\n",
      "25%        2.411464\n",
      "50%        3.017147\n",
      "75%        3.638953\n",
      "max        5.657579\n",
      "Name: Dane 100, dtype: float64\n",
      "Odchylenie standardowe: 0.9449\n",
      "\n",
      "📊 Statystyki dla 10 000 obserwacji:\n",
      "count    10000.000000\n",
      "mean         3.009409\n",
      "std          0.990893\n",
      "min         -1.184794\n",
      "25%          2.360890\n",
      "50%          3.023070\n",
      "75%          3.665082\n",
      "max          6.431717\n",
      "Name: Dane 10000, dtype: float64\n",
      "Odchylenie standardowe: 0.9909\n"
     ]
    }
   ],
   "source": [
    "import numpy as np\n",
    "import pandas as pd\n",
    "\n",
    "# 1. Generowanie danych\n",
    "data_100 = np.random.normal(loc=3, scale=1, size=100)\n",
    "data_10000 = np.random.normal(loc=3, scale=1, size=10000)\n",
    "\n",
    "# 2. Tworzenie DataFrame dla wygody\n",
    "df_100 = pd.Series(data_100, name=\"Dane 100\")\n",
    "df_10000 = pd.Series(data_10000, name=\"Dane 10000\")\n",
    "\n",
    "# 3. Obliczanie statystyk opisowych\n",
    "stats_100 = df_100.describe()\n",
    "stats_10000 = df_10000.describe()\n",
    "\n",
    "# 4. Dodajemy odchylenie standardowe (describe() podaje tylko std dla Series, ale dla czytelności pokazujemy osobno)\n",
    "std_100 = df_100.std()\n",
    "std_10000 = df_10000.std()\n",
    "\n",
    "print(\"📊 Statystyki dla 100 obserwacji:\")\n",
    "print(stats_100)\n",
    "print(f\"Odchylenie standardowe: {std_100:.4f}\")\n",
    "\n",
    "print(\"\\n📊 Statystyki dla 10 000 obserwacji:\")\n",
    "print(stats_10000)\n",
    "print(f\"Odchylenie standardowe: {std_10000:.4f}\")"
   ]
  }
 ],
 "metadata": {
  "kernelspec": {
   "display_name": "Python 3",
   "language": "python",
   "name": "python3"
  },
  "language_info": {
   "codemirror_mode": {
    "name": "ipython",
    "version": 3
   },
   "file_extension": ".py",
   "mimetype": "text/x-python",
   "name": "python",
   "nbconvert_exporter": "python",
   "pygments_lexer": "ipython3",
   "version": "3.13.2"
  }
 },
 "nbformat": 4,
 "nbformat_minor": 5
}
